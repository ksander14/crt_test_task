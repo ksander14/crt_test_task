{
 "cells": [
  {
   "cell_type": "code",
   "execution_count": 2,
   "metadata": {
    "collapsed": true
   },
   "outputs": [],
   "source": [
    "### должны быть установлены перечисленные библиотеки, можно через pip install  ...\n",
    "### в папке с ноутбуком должна лежать папка data_v_7_stc и всё её содержимое\n",
    "\n",
    "import glob\n",
    "import os\n",
    "import librosa\n",
    "import numpy as np\n",
    "import pandas as pd\n",
    "from tqdm import tqdm\n",
    "%matplotlib inline"
   ]
  },
  {
   "cell_type": "code",
   "execution_count": 3,
   "metadata": {
    "collapsed": true
   },
   "outputs": [],
   "source": [
    "def extract_feature(file_name):\n",
    "    X, sample_rate = librosa.load(file_name)\n",
    "    stft = np.abs(librosa.stft(X))\n",
    "    mfccs = np.mean(librosa.feature.mfcc(y=X, sr=sample_rate, n_mfcc=40).T,axis=0)\n",
    "    chroma = np.mean(librosa.feature.chroma_stft(S=stft, sr=sample_rate).T,axis=0)\n",
    "    mel = np.mean(librosa.feature.melspectrogram(X, sr=sample_rate).T,axis=0)\n",
    "    contrast = np.mean(librosa.feature.spectral_contrast(S=stft, sr=sample_rate).T,axis=0)\n",
    "    tonnetz = np.mean(librosa.feature.tonnetz(y=librosa.effects.harmonic(X),\n",
    "    sr=sample_rate).T,axis=0)\n",
    "    return mfccs,chroma,mel,contrast,tonnetz\n",
    "\n",
    "def parse_audio_files(parent_dir, audio_folder, file_ext=\"*.wav\", train=False):\n",
    "    features = np.empty((0, 193))\n",
    "    for file_name in glob.glob(os.path.join(parent_dir, audio_folder, file_ext)):\n",
    "        mfccs, chroma, mel, contrast,tonnetz = extract_feature(file_name)\n",
    "        ext_features = np.hstack([mfccs,chroma,mel,contrast,tonnetz])\n",
    "        features = np.vstack([features,ext_features])\n",
    "    \n",
    "    return np.array(features)\n",
    "\n",
    "def get_meta_labels(parent_dir, audio_folder, file_ext=\"*.wav\"):\n",
    "    meta = pd.read_table(\"data_v_7_stc/meta/meta.txt\", header=None)\n",
    "    train_label_dict = meta.set_index(0).to_dict()[4]\n",
    "    \n",
    "    labels = []\n",
    "\n",
    "    for file_name in tqdm(glob.glob(os.path.join(parent_dir, audio_folder, file_ext))):\n",
    "        labels.append(train_label_dict[file_name.split('\\\\')[2]])\n",
    "    return labels"
   ]
  },
  {
   "cell_type": "code",
   "execution_count": 8,
   "metadata": {},
   "outputs": [],
   "source": [
    "X = parse_audio_files('data_v_7_stc', 'audio')"
   ]
  },
  {
   "cell_type": "code",
   "execution_count": 5,
   "metadata": {
    "collapsed": true
   },
   "outputs": [],
   "source": [
    "X = pd.DataFrame(X)"
   ]
  },
  {
   "cell_type": "code",
   "execution_count": 6,
   "metadata": {},
   "outputs": [
    {
     "name": "stderr",
     "output_type": "stream",
     "text": [
      "100%|████████████████████████████████████████████████████████████████████████| 11307/11307 [00:00<00:00, 809521.29it/s]\n"
     ]
    }
   ],
   "source": [
    "y = get_meta_labels('data_v_7_stc', 'audio')\n",
    "\n",
    "y_map = {'background' : 0, 'bags': 1, 'door': 2, 'keyboard': 3, 'knocking_door': 4, 'ring': 5, 'speech': 6, 'tool': 7}\n",
    "y_classes = [y_map[label] for label in y]"
   ]
  },
  {
   "cell_type": "markdown",
   "metadata": {},
   "source": [
    "### Модель"
   ]
  },
  {
   "cell_type": "code",
   "execution_count": 21,
   "metadata": {
    "collapsed": true
   },
   "outputs": [],
   "source": [
    "### требуется установить lightgbm, можно через pip install lightgbm\n",
    "\n",
    "from lightgbm import LGBMClassifier"
   ]
  },
  {
   "cell_type": "code",
   "execution_count": 44,
   "metadata": {},
   "outputs": [
    {
     "data": {
      "text/plain": [
       "LGBMClassifier(boosting_type='gbdt', class_weight=None, colsample_bytree=1.0,\n",
       "        learning_rate=0.1, max_depth=-1, min_child_samples=20,\n",
       "        min_child_weight=0.001, min_split_gain=0.0, n_estimators=100,\n",
       "        n_jobs=-1, num_leaves=31, objective=None, random_state=None,\n",
       "        reg_alpha=0.0, reg_lambda=0.0, silent=True, subsample=1.0,\n",
       "        subsample_for_bin=200000, subsample_freq=1)"
      ]
     },
     "execution_count": 44,
     "metadata": {},
     "output_type": "execute_result"
    }
   ],
   "source": [
    "lgbm_cl = LGBMClassifier()\n",
    "lgbm_cl.fit(X, y_classes)"
   ]
  },
  {
   "cell_type": "code",
   "execution_count": 36,
   "metadata": {
    "collapsed": true
   },
   "outputs": [],
   "source": [
    "y_reverse_map = {0: 'background', 1: 'bags', 2: 'door', 3: 'keyboard', 4: 'knocking_door', 5: 'ring', 6: 'speech', 7: 'tool'}"
   ]
  },
  {
   "cell_type": "markdown",
   "metadata": {},
   "source": [
    "## Получаем признаки для тестового множества"
   ]
  },
  {
   "cell_type": "code",
   "execution_count": 42,
   "metadata": {},
   "outputs": [
    {
     "name": "stderr",
     "output_type": "stream",
     "text": [
      "100%|████████████████████████████████████████████████████████████████████████████████| 610/610 [08:15<00:00,  1.23it/s]\n"
     ]
    }
   ],
   "source": [
    "X_test = parse_audio_files('data_v_7_stc', 'test')"
   ]
  },
  {
   "cell_type": "code",
   "execution_count": 45,
   "metadata": {},
   "outputs": [
    {
     "name": "stderr",
     "output_type": "stream",
     "text": [
      "C:\\Users\\isafiulin\\AppData\\Local\\Continuum\\Anaconda3\\lib\\site-packages\\sklearn\\preprocessing\\label.py:171: DeprecationWarning: The truth value of an empty array is ambiguous. Returning False, but in future this will result in an error. Use `array.size > 0` to check that an array is not empty.\n",
      "  if diff:\n"
     ]
    }
   ],
   "source": [
    "test_classes = [y_reverse_map[label] for label in lgbm_cl.predict(X_test)]\n",
    "test_probas = lgbm_cl.predict_proba(X_test).max(axis=1)"
   ]
  },
  {
   "cell_type": "markdown",
   "metadata": {},
   "source": [
    "## Записываем ответ"
   ]
  },
  {
   "cell_type": "code",
   "execution_count": 48,
   "metadata": {},
   "outputs": [],
   "source": [
    "test_files_names = [file_name.split('\\\\')[2] for file_name in glob.glob(os.path.join('data_v_7_stc', 'test', \"*.wav\"))]\n",
    "answer = pd.DataFrame(test_files_names, columns=['file_names'])\n",
    "answer['probs'] = test_probas\n",
    "answer['class'] = test_classes\n",
    "answer.to_csv('result.txt', header=False, sep='\\t', index=False)"
   ]
  },
  {
   "cell_type": "code",
   "execution_count": null,
   "metadata": {
    "collapsed": true
   },
   "outputs": [],
   "source": []
  }
 ],
 "metadata": {
  "kernelspec": {
   "display_name": "Python 3",
   "language": "python",
   "name": "python3"
  },
  "language_info": {
   "codemirror_mode": {
    "name": "ipython",
    "version": 3
   },
   "file_extension": ".py",
   "mimetype": "text/x-python",
   "name": "python",
   "nbconvert_exporter": "python",
   "pygments_lexer": "ipython3",
   "version": "3.6.1"
  }
 },
 "nbformat": 4,
 "nbformat_minor": 2
}
